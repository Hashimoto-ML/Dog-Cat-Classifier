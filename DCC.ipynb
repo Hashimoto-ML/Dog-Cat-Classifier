{
 "cells": [
  {
   "cell_type": "code",
   "execution_count": 1,
   "source": [
    "from fastai.vision.all import *\r\n",
    "from fastai.vision.widgets import *"
   ],
   "outputs": [],
   "metadata": {}
  },
  {
   "cell_type": "code",
   "execution_count": 4,
   "source": [
    "path = Path()\r\n",
    "\r\n",
    "def label_func(f): \r\n",
    "    return 'cat' if f[0].isupper() else 'dog'\r\n",
    "\r\n",
    "learn_inf = load_learner(path/'export.pkl', cpu=True)"
   ],
   "outputs": [],
   "metadata": {}
  },
  {
   "cell_type": "code",
   "execution_count": 5,
   "source": [
    "btn_upload = widgets.FileUpload()\r\n",
    "btn_run = widgets.Button(description='Classify')\r\n",
    "out_pl = widgets.Output()\r\n",
    "lbl_pred = widgets.Label()\r\n",
    "\r\n",
    "\r\n",
    "def on_click_classify(change):\r\n",
    "    img = PILImage.create(btn_upload.data[-1])\r\n",
    "    out_pl.clear_output()\r\n",
    "    with out_pl: display(img.to_thumb(128,128))\r\n",
    "    pred, pred_idx,probs = learn_inf.predict(img)\r\n",
    "    lbl_pred.value = f'Prediction: {pred}; Probability: {probs[pred_idx]:.04f}'\r\n",
    "\r\n",
    "btn_run.on_click(on_click_classify)\r\n",
    "\r\n",
    "\r\n",
    "VBox([widgets.Label('Select your cat or dog img'), \r\n",
    "      btn_upload, btn_run, out_pl, lbl_pred])"
   ],
   "outputs": [
    {
     "output_type": "display_data",
     "data": {
      "text/plain": [
       "VBox(children=(Label(value='Select your cat or dog img'), FileUpload(value={}, description='Upload'), Button(d…"
      ],
      "application/vnd.jupyter.widget-view+json": {
       "model_id": "5f69cd9292704d72a21d2202fa0734da",
       "version_major": 2,
       "version_minor": 0
      }
     },
     "metadata": {}
    }
   ],
   "metadata": {}
  },
  {
   "cell_type": "code",
   "execution_count": null,
   "source": [],
   "outputs": [],
   "metadata": {}
  }
 ],
 "metadata": {
  "kernelspec": {
   "display_name": "Python 3 (ipykernel)",
   "language": "python",
   "name": "python3"
  },
  "language_info": {
   "codemirror_mode": {
    "name": "ipython",
    "version": 3
   },
   "file_extension": ".py",
   "mimetype": "text/x-python",
   "name": "python",
   "nbconvert_exporter": "python",
   "pygments_lexer": "ipython3",
   "version": "3.8.10"
  }
 },
 "nbformat": 4,
 "nbformat_minor": 5
}
